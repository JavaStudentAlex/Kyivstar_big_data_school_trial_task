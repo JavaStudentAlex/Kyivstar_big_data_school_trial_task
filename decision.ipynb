{
 "cells": [
  {
   "cell_type": "code",
   "execution_count": 1,
   "metadata": {
    "collapsed": true
   },
   "outputs": [],
   "source": [
    "import pandas as pd"
   ]
  },
  {
   "cell_type": "markdown",
   "source": [
    "Place of files"
   ],
   "metadata": {
    "collapsed": false
   }
  },
  {
   "cell_type": "code",
   "execution_count": 2,
   "outputs": [],
   "source": [
    "data_folder = \"data\"\n",
    "features_path = f\"{data_folder}/tabular_data.csv\"\n",
    "hashed_features_path = f\"{data_folder}/hashed_feature.csv\"\n",
    "labels_path = f\"{data_folder}/train.csv\"\n",
    "test_df_path = f\"{data_folder}/test.csv\""
   ],
   "metadata": {
    "collapsed": false,
    "pycharm": {
     "name": "#%%\n"
    }
   }
  },
  {
   "cell_type": "markdown",
   "source": [
    "Import data"
   ],
   "metadata": {
    "collapsed": false
   }
  },
  {
   "cell_type": "code",
   "execution_count": 3,
   "outputs": [
    {
     "data": {
      "text/plain": "    period  feature_0  feature_1  feature_2   feature_3  feature_4  feature_5  \\\nid                                                                              \n0        1      110.0       55.0   0.432017    0.000000     176.78        0.0   \n0        2      110.0      110.0   0.397517    0.000000     315.42        0.0   \n0        3      110.0       55.0   0.359440    0.000000     354.55        0.0   \n0        4      110.0       55.0   0.285707    0.000000     229.98        0.0   \n0        5      110.0       55.0   0.101487  444.730391     307.12        0.0   \n\n    feature_6  feature_7  feature_8  ...  feature_40  feature_41  feature_42  \\\nid                                   ...                                       \n0    0.323712        NaN      147.0  ...        0.00           0    0.000000   \n0    0.316798        NaN      135.0  ...        0.00           0    0.000000   \n0    0.339188        NaN      181.0  ...        0.07           0    0.000000   \n0    0.415428        NaN      142.0  ...        0.00           0    0.000000   \n0    0.569670        NaN       92.0  ...        0.95           0   20.014485   \n\n    feature_43  feature_44  feature_45  feature_46  feature_47  feature_48  \\\nid                                                                           \n0          0.0        55.0         2.0    0.526552       145.0      133.28   \n0          0.0       110.0         1.0    0.481063       130.0      229.97   \n0          0.0        55.0         1.0    0.509598       180.0      231.78   \n0          0.0        55.0         0.0    0.680089       142.0      183.83   \n0          0.0        55.0         0.0    0.776175        85.0      155.83   \n\n    feature_49  \nid              \n0          0.0  \n0          0.0  \n0          0.0  \n0          0.0  \n0          0.0  \n\n[5 rows x 51 columns]",
      "text/html": "<div>\n<style scoped>\n    .dataframe tbody tr th:only-of-type {\n        vertical-align: middle;\n    }\n\n    .dataframe tbody tr th {\n        vertical-align: top;\n    }\n\n    .dataframe thead th {\n        text-align: right;\n    }\n</style>\n<table border=\"1\" class=\"dataframe\">\n  <thead>\n    <tr style=\"text-align: right;\">\n      <th></th>\n      <th>period</th>\n      <th>feature_0</th>\n      <th>feature_1</th>\n      <th>feature_2</th>\n      <th>feature_3</th>\n      <th>feature_4</th>\n      <th>feature_5</th>\n      <th>feature_6</th>\n      <th>feature_7</th>\n      <th>feature_8</th>\n      <th>...</th>\n      <th>feature_40</th>\n      <th>feature_41</th>\n      <th>feature_42</th>\n      <th>feature_43</th>\n      <th>feature_44</th>\n      <th>feature_45</th>\n      <th>feature_46</th>\n      <th>feature_47</th>\n      <th>feature_48</th>\n      <th>feature_49</th>\n    </tr>\n    <tr>\n      <th>id</th>\n      <th></th>\n      <th></th>\n      <th></th>\n      <th></th>\n      <th></th>\n      <th></th>\n      <th></th>\n      <th></th>\n      <th></th>\n      <th></th>\n      <th></th>\n      <th></th>\n      <th></th>\n      <th></th>\n      <th></th>\n      <th></th>\n      <th></th>\n      <th></th>\n      <th></th>\n      <th></th>\n      <th></th>\n    </tr>\n  </thead>\n  <tbody>\n    <tr>\n      <th>0</th>\n      <td>1</td>\n      <td>110.0</td>\n      <td>55.0</td>\n      <td>0.432017</td>\n      <td>0.000000</td>\n      <td>176.78</td>\n      <td>0.0</td>\n      <td>0.323712</td>\n      <td>NaN</td>\n      <td>147.0</td>\n      <td>...</td>\n      <td>0.00</td>\n      <td>0</td>\n      <td>0.000000</td>\n      <td>0.0</td>\n      <td>55.0</td>\n      <td>2.0</td>\n      <td>0.526552</td>\n      <td>145.0</td>\n      <td>133.28</td>\n      <td>0.0</td>\n    </tr>\n    <tr>\n      <th>0</th>\n      <td>2</td>\n      <td>110.0</td>\n      <td>110.0</td>\n      <td>0.397517</td>\n      <td>0.000000</td>\n      <td>315.42</td>\n      <td>0.0</td>\n      <td>0.316798</td>\n      <td>NaN</td>\n      <td>135.0</td>\n      <td>...</td>\n      <td>0.00</td>\n      <td>0</td>\n      <td>0.000000</td>\n      <td>0.0</td>\n      <td>110.0</td>\n      <td>1.0</td>\n      <td>0.481063</td>\n      <td>130.0</td>\n      <td>229.97</td>\n      <td>0.0</td>\n    </tr>\n    <tr>\n      <th>0</th>\n      <td>3</td>\n      <td>110.0</td>\n      <td>55.0</td>\n      <td>0.359440</td>\n      <td>0.000000</td>\n      <td>354.55</td>\n      <td>0.0</td>\n      <td>0.339188</td>\n      <td>NaN</td>\n      <td>181.0</td>\n      <td>...</td>\n      <td>0.07</td>\n      <td>0</td>\n      <td>0.000000</td>\n      <td>0.0</td>\n      <td>55.0</td>\n      <td>1.0</td>\n      <td>0.509598</td>\n      <td>180.0</td>\n      <td>231.78</td>\n      <td>0.0</td>\n    </tr>\n    <tr>\n      <th>0</th>\n      <td>4</td>\n      <td>110.0</td>\n      <td>55.0</td>\n      <td>0.285707</td>\n      <td>0.000000</td>\n      <td>229.98</td>\n      <td>0.0</td>\n      <td>0.415428</td>\n      <td>NaN</td>\n      <td>142.0</td>\n      <td>...</td>\n      <td>0.00</td>\n      <td>0</td>\n      <td>0.000000</td>\n      <td>0.0</td>\n      <td>55.0</td>\n      <td>0.0</td>\n      <td>0.680089</td>\n      <td>142.0</td>\n      <td>183.83</td>\n      <td>0.0</td>\n    </tr>\n    <tr>\n      <th>0</th>\n      <td>5</td>\n      <td>110.0</td>\n      <td>55.0</td>\n      <td>0.101487</td>\n      <td>444.730391</td>\n      <td>307.12</td>\n      <td>0.0</td>\n      <td>0.569670</td>\n      <td>NaN</td>\n      <td>92.0</td>\n      <td>...</td>\n      <td>0.95</td>\n      <td>0</td>\n      <td>20.014485</td>\n      <td>0.0</td>\n      <td>55.0</td>\n      <td>0.0</td>\n      <td>0.776175</td>\n      <td>85.0</td>\n      <td>155.83</td>\n      <td>0.0</td>\n    </tr>\n  </tbody>\n</table>\n<p>5 rows × 51 columns</p>\n</div>"
     },
     "execution_count": 3,
     "metadata": {},
     "output_type": "execute_result"
    }
   ],
   "source": [
    "# features\n",
    "features = pd.read_csv(features_path,index_col=0)\n",
    "features.head()"
   ],
   "metadata": {
    "collapsed": false,
    "pycharm": {
     "name": "#%%\n"
    }
   }
  },
  {
   "cell_type": "code",
   "execution_count": 4,
   "outputs": [
    {
     "data": {
      "text/plain": "                                  feature_50\nid                                          \n0   7984b0a0e139cabadb5afc7756d473fb34d23819\n0   47904b3331202e9881d003ff449c2eabfbc75460\n0   a99c4b3af723874ddd85af322beea81b64437294\n0   4dce5381031a88aed6b12ef71b6f7c3148e7b3c8\n0   d62db721202cb6636887f450a7b77fa97db03b05",
      "text/html": "<div>\n<style scoped>\n    .dataframe tbody tr th:only-of-type {\n        vertical-align: middle;\n    }\n\n    .dataframe tbody tr th {\n        vertical-align: top;\n    }\n\n    .dataframe thead th {\n        text-align: right;\n    }\n</style>\n<table border=\"1\" class=\"dataframe\">\n  <thead>\n    <tr style=\"text-align: right;\">\n      <th></th>\n      <th>feature_50</th>\n    </tr>\n    <tr>\n      <th>id</th>\n      <th></th>\n    </tr>\n  </thead>\n  <tbody>\n    <tr>\n      <th>0</th>\n      <td>7984b0a0e139cabadb5afc7756d473fb34d23819</td>\n    </tr>\n    <tr>\n      <th>0</th>\n      <td>47904b3331202e9881d003ff449c2eabfbc75460</td>\n    </tr>\n    <tr>\n      <th>0</th>\n      <td>a99c4b3af723874ddd85af322beea81b64437294</td>\n    </tr>\n    <tr>\n      <th>0</th>\n      <td>4dce5381031a88aed6b12ef71b6f7c3148e7b3c8</td>\n    </tr>\n    <tr>\n      <th>0</th>\n      <td>d62db721202cb6636887f450a7b77fa97db03b05</td>\n    </tr>\n  </tbody>\n</table>\n</div>"
     },
     "execution_count": 4,
     "metadata": {},
     "output_type": "execute_result"
    }
   ],
   "source": [
    "# hashed categorical features\n",
    "hashed_features = pd.read_csv(hashed_features_path, index_col=0)\n",
    "hashed_features.head()"
   ],
   "metadata": {
    "collapsed": false,
    "pycharm": {
     "name": "#%%\n"
    }
   }
  },
  {
   "cell_type": "code",
   "execution_count": 5,
   "outputs": [
    {
     "data": {
      "text/plain": "    target\nid        \n0        0\n1        0\n2        1\n3        0\n4        1",
      "text/html": "<div>\n<style scoped>\n    .dataframe tbody tr th:only-of-type {\n        vertical-align: middle;\n    }\n\n    .dataframe tbody tr th {\n        vertical-align: top;\n    }\n\n    .dataframe thead th {\n        text-align: right;\n    }\n</style>\n<table border=\"1\" class=\"dataframe\">\n  <thead>\n    <tr style=\"text-align: right;\">\n      <th></th>\n      <th>target</th>\n    </tr>\n    <tr>\n      <th>id</th>\n      <th></th>\n    </tr>\n  </thead>\n  <tbody>\n    <tr>\n      <th>0</th>\n      <td>0</td>\n    </tr>\n    <tr>\n      <th>1</th>\n      <td>0</td>\n    </tr>\n    <tr>\n      <th>2</th>\n      <td>1</td>\n    </tr>\n    <tr>\n      <th>3</th>\n      <td>0</td>\n    </tr>\n    <tr>\n      <th>4</th>\n      <td>1</td>\n    </tr>\n  </tbody>\n</table>\n</div>"
     },
     "execution_count": 5,
     "metadata": {},
     "output_type": "execute_result"
    }
   ],
   "source": [
    "# class labels\n",
    "labels = pd.read_csv(labels_path, index_col=0)\n",
    "labels.head()"
   ],
   "metadata": {
    "collapsed": false,
    "pycharm": {
     "name": "#%%\n"
    }
   }
  },
  {
   "cell_type": "code",
   "execution_count": 6,
   "outputs": [
    {
     "data": {
      "text/plain": "      score\nid         \n4084    NaN\n4085    NaN\n4086    NaN\n4087    NaN\n4088    NaN",
      "text/html": "<div>\n<style scoped>\n    .dataframe tbody tr th:only-of-type {\n        vertical-align: middle;\n    }\n\n    .dataframe tbody tr th {\n        vertical-align: top;\n    }\n\n    .dataframe thead th {\n        text-align: right;\n    }\n</style>\n<table border=\"1\" class=\"dataframe\">\n  <thead>\n    <tr style=\"text-align: right;\">\n      <th></th>\n      <th>score</th>\n    </tr>\n    <tr>\n      <th>id</th>\n      <th></th>\n    </tr>\n  </thead>\n  <tbody>\n    <tr>\n      <th>4084</th>\n      <td>NaN</td>\n    </tr>\n    <tr>\n      <th>4085</th>\n      <td>NaN</td>\n    </tr>\n    <tr>\n      <th>4086</th>\n      <td>NaN</td>\n    </tr>\n    <tr>\n      <th>4087</th>\n      <td>NaN</td>\n    </tr>\n    <tr>\n      <th>4088</th>\n      <td>NaN</td>\n    </tr>\n  </tbody>\n</table>\n</div>"
     },
     "execution_count": 6,
     "metadata": {},
     "output_type": "execute_result"
    }
   ],
   "source": [
    "# test data\n",
    "test_df = pd.read_csv(test_df_path, index_col=0)\n",
    "test_df.head()\n"
   ],
   "metadata": {
    "collapsed": false,
    "pycharm": {
     "name": "#%%\n"
    }
   }
  }
 ],
 "metadata": {
  "kernelspec": {
   "display_name": "Python 3",
   "language": "python",
   "name": "python3"
  },
  "language_info": {
   "codemirror_mode": {
    "name": "ipython",
    "version": 2
   },
   "file_extension": ".py",
   "mimetype": "text/x-python",
   "name": "python",
   "nbconvert_exporter": "python",
   "pygments_lexer": "ipython2",
   "version": "2.7.6"
  }
 },
 "nbformat": 4,
 "nbformat_minor": 0
}